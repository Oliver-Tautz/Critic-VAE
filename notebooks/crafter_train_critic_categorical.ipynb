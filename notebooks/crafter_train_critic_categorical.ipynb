{
  "cells": [
    {
      "cell_type": "code",
      "source": [
        "# if true, will mount your google drive and save the trained model in 'crafter_models' directory\n",
        "save_to_drive = True\n",
        "# colab can handle ~45000-50000\n",
        "dataset_size = 45000\n",
        "\n",
        "epochs = 50\n",
        "\n",
        "# push this higher to be faster, but works well with 32\n",
        "batch_size=32"
      ],
      "metadata": {
        "id": "CvkmDOv7Bijh"
      },
      "id": "CvkmDOv7Bijh",
      "execution_count": null,
      "outputs": []
    },
    {
      "cell_type": "code",
      "source": [
        "# install dependencies\n",
        "! python -m pip install crafter wget datasets"
      ],
      "metadata": {
        "id": "t-HKfsY_YKcr"
      },
      "id": "t-HKfsY_YKcr",
      "execution_count": null,
      "outputs": []
    },
    {
      "cell_type": "code",
      "source": [
        "# download code and set env variable\n",
        "! git clone https://github.com/Oliver-Tautz/Critic-VAE/ criticVae\n",
        "import sys\n",
        "sys.path.append(\"/content/criticVae\")"
      ],
      "metadata": {
        "colab": {
          "base_uri": "https://localhost:8080/"
        },
        "id": "TTNUMLJqxiOU",
        "outputId": "e5cbacbc-4654-4adf-af6e-a934e58b8e0e"
      },
      "id": "TTNUMLJqxiOU",
      "execution_count": null,
      "outputs": [
        {
          "output_type": "stream",
          "name": "stdout",
          "text": [
            "Cloning into 'criticVae'...\n",
            "remote: Enumerating objects: 937, done.\u001b[K\n",
            "remote: Counting objects: 100% (241/241), done.\u001b[K\n",
            "remote: Compressing objects: 100% (162/162), done.\u001b[K\n",
            "remote: Total 937 (delta 137), reused 169 (delta 79), pack-reused 696\u001b[K\n",
            "Receiving objects: 100% (937/937), 332.61 MiB | 26.11 MiB/s, done.\n",
            "Resolving deltas: 100% (304/304), done.\n"
          ]
        }
      ]
    },
    {
      "cell_type": "code",
      "source": [
        "from crafter_extension_dataset import CrafterCriticDataset\n",
        "from crafter_extension_utils import collect_data, choose\n",
        "from crafter_extension_model import Critic"
      ],
      "metadata": {
        "id": "qASD86oEzVGN"
      },
      "id": "qASD86oEzVGN",
      "execution_count": null,
      "outputs": []
    },
    {
      "cell_type": "code",
      "execution_count": null,
      "id": "423d867d-4f64-4096-8ed4-1ce63196b3fb",
      "metadata": {
        "id": "423d867d-4f64-4096-8ed4-1ce63196b3fb"
      },
      "outputs": [],
      "source": [
        "import multiprocessing\n",
        "ncpu = multiprocessing.cpu_count()\n",
        "import torch\n",
        "import os\n",
        "torch.set_num_threads(ncpu)\n",
        "torch.set_num_interop_threads(ncpu)\n",
        "\n",
        "\n",
        "replay_dir = '/content/dataset'\n",
        "os.makedirs(replay_dir,exist_ok=True)"
      ]
    },
    {
      "cell_type": "code",
      "execution_count": null,
      "id": "5799a858-5332-4bdc-a9c8-5c44fd3e8fc4",
      "metadata": {
        "colab": {
          "base_uri": "https://localhost:8080/"
        },
        "id": "5799a858-5332-4bdc-a9c8-5c44fd3e8fc4",
        "outputId": "15ae451d-fda2-42a2-ad52-59c452ecd56e"
      },
      "outputs": [
        {
          "output_type": "stream",
          "name": "stdout",
          "text": [
            "/content/dataset\n",
            "Downloading raw replay dataset ...\n",
            "downloaded  /content/dataset/dataset.zip\n",
            "\n",
            "Unzipping ...\n"
          ]
        },
        {
          "output_type": "stream",
          "name": "stderr",
          "text": [
            "loading episodes ...: 100%|██████████| 100/100 [00:02<00:00, 37.09it/s]\n"
          ]
        }
      ],
      "source": [
        "X,Y,_ = collect_data(replay_dir,download=True)"
      ]
    },
    {
      "cell_type": "code",
      "source": [
        "X = torch.tensor(X).permute(0,3,1,2) / 255"
      ],
      "metadata": {
        "id": "s6YenlzbdRa2"
      },
      "id": "s6YenlzbdRa2",
      "execution_count": null,
      "outputs": []
    },
    {
      "cell_type": "code",
      "source": [
        "critic = Critic()\n",
        "history = critic.fit_on_crafter(X,Y,batch_size = 32,epochs=50,dataset_size=45000)"
      ],
      "metadata": {
        "colab": {
          "base_uri": "https://localhost:8080/",
          "height": 1000,
          "referenced_widgets": [
            "10eca747253b4216aa210d9c221f0d92",
            "b89231b3a119450aa040abe2c5e6c97c",
            "f36f165750644776a4d0a1a33fd52e7e",
            "dde969dfdca440a4a58e55a1b30c8863",
            "61bb5f409f074068b2143c27204b025e",
            "4aeb4b34293d4ab5beb0e08819473fa7",
            "dad719ba12b347dc8f27f0cbac8e2a57",
            "8e5cefed21784c479f5cf853e168ab6b",
            "26c3d82524d748c6a458ab95004db53c",
            "38cec7dfc44a42a9bd5700fb006aa83b",
            "f6aa7d300e4e4160aa70c0e0cd001597"
          ]
        },
        "id": "QPXgrsm5aZrk",
        "outputId": "d2123a9e-0a5e-4bc4-90aa-4ef729e80653"
      },
      "id": "QPXgrsm5aZrk",
      "execution_count": null,
      "outputs": [
        {
          "output_type": "stream",
          "name": "stderr",
          "text": [
            "\rtrain_epochs:   0%|          | 0/50 [00:00<?, ?it/s]"
          ]
        },
        {
          "output_type": "display_data",
          "data": {
            "text/plain": [
              "Downloading builder script:   0%|          | 0.00/1.65k [00:00<?, ?B/s]"
            ],
            "application/vnd.jupyter.widget-view+json": {
              "version_major": 2,
              "version_minor": 0,
              "model_id": "10eca747253b4216aa210d9c221f0d92"
            }
          },
          "metadata": {}
        },
        {
          "output_type": "stream",
          "name": "stderr",
          "text": [
            "train_batches: 100%|██████████| 1407/1407 [00:17<00:00, 79.38it/s] \n",
            "eval_batches: 100%|██████████| 388/388 [00:01<00:00, 239.90it/s]\n",
            "train_batches: 100%|██████████| 1407/1407 [00:10<00:00, 129.42it/s]\n",
            "eval_batches: 100%|██████████| 388/388 [00:01<00:00, 241.04it/s]\n",
            "train_batches: 100%|██████████| 1407/1407 [00:11<00:00, 127.58it/s]\n",
            "eval_batches: 100%|██████████| 388/388 [00:01<00:00, 227.30it/s]\n",
            "train_batches: 100%|██████████| 1407/1407 [00:10<00:00, 133.79it/s]\n",
            "eval_batches: 100%|██████████| 388/388 [00:01<00:00, 236.71it/s]\n",
            "train_batches: 100%|██████████| 1407/1407 [00:10<00:00, 131.95it/s]\n",
            "eval_batches: 100%|██████████| 388/388 [00:01<00:00, 233.68it/s]\n",
            "train_batches: 100%|██████████| 1407/1407 [00:10<00:00, 130.90it/s]\n",
            "eval_batches: 100%|██████████| 388/388 [00:01<00:00, 233.96it/s]\n",
            "train_batches: 100%|██████████| 1407/1407 [00:11<00:00, 120.44it/s]\n",
            "eval_batches: 100%|██████████| 388/388 [00:01<00:00, 235.48it/s]\n",
            "train_batches: 100%|██████████| 1407/1407 [00:10<00:00, 132.23it/s]\n",
            "eval_batches: 100%|██████████| 388/388 [00:01<00:00, 244.26it/s]\n",
            "train_batches: 100%|██████████| 1407/1407 [00:10<00:00, 130.17it/s]\n",
            "eval_batches: 100%|██████████| 388/388 [00:01<00:00, 233.15it/s]\n",
            "train_batches: 100%|██████████| 1407/1407 [00:11<00:00, 127.26it/s]\n",
            "eval_batches: 100%|██████████| 388/388 [00:01<00:00, 239.19it/s]\n",
            "train_batches: 100%|██████████| 1407/1407 [00:10<00:00, 128.58it/s]\n",
            "eval_batches: 100%|██████████| 388/388 [00:01<00:00, 237.29it/s]\n",
            "train_batches: 100%|██████████| 1407/1407 [00:10<00:00, 130.93it/s]\n",
            "eval_batches: 100%|██████████| 388/388 [00:01<00:00, 235.58it/s]\n",
            "train_batches: 100%|██████████| 1407/1407 [00:10<00:00, 135.41it/s]\n",
            "eval_batches: 100%|██████████| 388/388 [00:01<00:00, 229.42it/s]\n",
            "train_batches: 100%|██████████| 1407/1407 [00:11<00:00, 127.86it/s]\n",
            "eval_batches: 100%|██████████| 388/388 [00:01<00:00, 230.83it/s]\n",
            "train_batches: 100%|██████████| 1407/1407 [00:10<00:00, 129.44it/s]\n",
            "eval_batches: 100%|██████████| 388/388 [00:01<00:00, 233.90it/s]\n",
            "train_batches: 100%|██████████| 1407/1407 [00:10<00:00, 128.77it/s]\n",
            "eval_batches: 100%|██████████| 388/388 [00:01<00:00, 240.62it/s]\n",
            "train_batches: 100%|██████████| 1407/1407 [00:10<00:00, 130.66it/s]\n",
            "eval_batches: 100%|██████████| 388/388 [00:01<00:00, 206.64it/s]\n",
            "train_batches: 100%|██████████| 1407/1407 [00:10<00:00, 128.43it/s]\n",
            "eval_batches: 100%|██████████| 388/388 [00:01<00:00, 235.57it/s]\n",
            "train_batches: 100%|██████████| 1407/1407 [00:11<00:00, 126.80it/s]\n",
            "eval_batches: 100%|██████████| 388/388 [00:01<00:00, 241.10it/s]\n",
            "train_batches: 100%|██████████| 1407/1407 [00:11<00:00, 126.95it/s]\n",
            "eval_batches: 100%|██████████| 388/388 [00:01<00:00, 248.34it/s]\n",
            "train_batches: 100%|██████████| 1407/1407 [00:10<00:00, 132.80it/s]\n",
            "eval_batches: 100%|██████████| 388/388 [00:01<00:00, 245.50it/s]\n",
            "train_batches: 100%|██████████| 1407/1407 [00:10<00:00, 129.55it/s]\n",
            "eval_batches: 100%|██████████| 388/388 [00:01<00:00, 241.00it/s]\n",
            "train_batches: 100%|██████████| 1407/1407 [00:10<00:00, 128.58it/s]\n",
            "eval_batches: 100%|██████████| 388/388 [00:01<00:00, 239.80it/s]\n",
            "train_batches: 100%|██████████| 1407/1407 [00:10<00:00, 129.70it/s]\n",
            "eval_batches: 100%|██████████| 388/388 [00:01<00:00, 237.42it/s]\n",
            "train_batches: 100%|██████████| 1407/1407 [00:10<00:00, 134.68it/s]\n",
            "eval_batches: 100%|██████████| 388/388 [00:01<00:00, 241.98it/s]\n",
            "train_batches: 100%|██████████| 1407/1407 [00:10<00:00, 130.82it/s]\n",
            "eval_batches: 100%|██████████| 388/388 [00:01<00:00, 231.35it/s]\n",
            "train_batches: 100%|██████████| 1407/1407 [00:11<00:00, 124.31it/s]\n",
            "eval_batches: 100%|██████████| 388/388 [00:01<00:00, 229.73it/s]\n",
            "train_batches: 100%|██████████| 1407/1407 [00:11<00:00, 123.01it/s]\n",
            "eval_batches: 100%|██████████| 388/388 [00:01<00:00, 234.71it/s]\n",
            "train_batches: 100%|██████████| 1407/1407 [00:10<00:00, 130.96it/s]\n",
            "eval_batches: 100%|██████████| 388/388 [00:01<00:00, 245.91it/s]\n",
            "train_batches: 100%|██████████| 1407/1407 [00:10<00:00, 134.90it/s]\n",
            "eval_batches: 100%|██████████| 388/388 [00:01<00:00, 238.28it/s]\n",
            "train_batches: 100%|██████████| 1407/1407 [00:10<00:00, 128.69it/s]\n",
            "eval_batches: 100%|██████████| 388/388 [00:01<00:00, 237.86it/s]\n",
            "train_batches: 100%|██████████| 1407/1407 [00:10<00:00, 128.69it/s]\n",
            "eval_batches: 100%|██████████| 388/388 [00:01<00:00, 233.42it/s]\n",
            "train_batches: 100%|██████████| 1407/1407 [00:12<00:00, 116.64it/s]\n",
            "eval_batches: 100%|██████████| 388/388 [00:01<00:00, 242.99it/s]\n",
            "train_batches: 100%|██████████| 1407/1407 [00:10<00:00, 133.24it/s]\n",
            "eval_batches: 100%|██████████| 388/388 [00:01<00:00, 239.23it/s]\n",
            "train_batches: 100%|██████████| 1407/1407 [00:11<00:00, 126.79it/s]\n",
            "eval_batches: 100%|██████████| 388/388 [00:01<00:00, 230.00it/s]\n",
            "train_batches: 100%|██████████| 1407/1407 [00:11<00:00, 127.53it/s]\n",
            "eval_batches: 100%|██████████| 388/388 [00:01<00:00, 240.38it/s]\n",
            "train_batches: 100%|██████████| 1407/1407 [00:10<00:00, 127.99it/s]\n",
            "eval_batches: 100%|██████████| 388/388 [00:01<00:00, 248.10it/s]\n",
            "train_batches: 100%|██████████| 1407/1407 [00:11<00:00, 125.90it/s]\n",
            "eval_batches: 100%|██████████| 388/388 [00:01<00:00, 239.84it/s]\n",
            "train_batches: 100%|██████████| 1407/1407 [00:11<00:00, 127.70it/s]\n",
            "eval_batches: 100%|██████████| 388/388 [00:01<00:00, 235.21it/s]\n",
            "train_batches: 100%|██████████| 1407/1407 [00:10<00:00, 128.18it/s]\n",
            "eval_batches: 100%|██████████| 388/388 [00:01<00:00, 227.11it/s]\n",
            "train_batches: 100%|██████████| 1407/1407 [00:10<00:00, 128.76it/s]\n",
            "eval_batches: 100%|██████████| 388/388 [00:01<00:00, 242.04it/s]\n",
            "train_batches: 100%|██████████| 1407/1407 [00:10<00:00, 135.91it/s]\n",
            "eval_batches: 100%|██████████| 388/388 [00:01<00:00, 245.13it/s]\n",
            "train_batches: 100%|██████████| 1407/1407 [00:10<00:00, 129.56it/s]\n",
            "eval_batches: 100%|██████████| 388/388 [00:01<00:00, 216.05it/s]\n",
            "train_batches: 100%|██████████| 1407/1407 [00:17<00:00, 79.73it/s] \n",
            "eval_batches: 100%|██████████| 388/388 [00:01<00:00, 230.00it/s]\n",
            "train_batches: 100%|██████████| 1407/1407 [00:11<00:00, 127.52it/s]\n",
            "eval_batches: 100%|██████████| 388/388 [00:01<00:00, 247.77it/s]\n",
            "train_batches: 100%|██████████| 1407/1407 [00:10<00:00, 135.04it/s]\n",
            "eval_batches: 100%|██████████| 388/388 [00:01<00:00, 244.97it/s]\n",
            "train_batches: 100%|██████████| 1407/1407 [00:11<00:00, 127.72it/s]\n",
            "eval_batches: 100%|██████████| 388/388 [00:01<00:00, 236.45it/s]\n",
            "train_batches: 100%|██████████| 1407/1407 [00:11<00:00, 123.12it/s]\n",
            "eval_batches: 100%|██████████| 388/388 [00:01<00:00, 236.33it/s]\n",
            "train_batches: 100%|██████████| 1407/1407 [00:11<00:00, 127.61it/s]\n",
            "eval_batches: 100%|██████████| 388/388 [00:01<00:00, 223.50it/s]\n",
            "train_batches: 100%|██████████| 1407/1407 [00:10<00:00, 132.38it/s]\n",
            "eval_batches: 100%|██████████| 388/388 [00:01<00:00, 246.19it/s]\n",
            "train_epochs: 100%|██████████| 50/50 [11:30<00:00, 13.81s/it]\n"
          ]
        }
      ]
    },
    {
      "cell_type": "code",
      "source": [
        "history['train_acc'] = [a['accuracy'] for a in history['train_acc']]\n",
        "history['val_acc'] = [a['accuracy'] for a in history['val_acc']]"
      ],
      "metadata": {
        "id": "9e8ocYUeQfwD"
      },
      "id": "9e8ocYUeQfwD",
      "execution_count": null,
      "outputs": []
    },
    {
      "cell_type": "code",
      "source": [
        "import pandas as pd"
      ],
      "metadata": {
        "id": "f8cGMusJ-_Rt"
      },
      "id": "f8cGMusJ-_Rt",
      "execution_count": null,
      "outputs": []
    },
    {
      "cell_type": "code",
      "source": [
        "pd.DataFrame(history)[['train_acc','val_acc']].plot()"
      ],
      "metadata": {
        "colab": {
          "base_uri": "https://localhost:8080/",
          "height": 283
        },
        "id": "YLgsRssfP5Py",
        "outputId": "6218b463-6fe6-44b0-a713-200912a27399"
      },
      "id": "YLgsRssfP5Py",
      "execution_count": null,
      "outputs": [
        {
          "output_type": "execute_result",
          "data": {
            "text/plain": [
              "<matplotlib.axes._subplots.AxesSubplot at 0x7fd92d31e190>"
            ]
          },
          "metadata": {},
          "execution_count": 12
        },
        {
          "output_type": "display_data",
          "data": {
            "text/plain": [
              "<Figure size 432x288 with 1 Axes>"
            ],
            "image/png": "[encoded data removed]"
          },
          "metadata": {
            "needs_background": "light"
          }
        }
      ]
    },
    {
      "cell_type": "code",
      "source": [
        "pd.DataFrame(history)[['train_loss','val_loss']].plot()"
      ],
      "metadata": {
        "colab": {
          "base_uri": "https://localhost:8080/",
          "height": 283
        },
        "id": "7G1555RTQ1KR",
        "outputId": "74c4bfec-da2e-4823-aa91-e04dfd62741f"
      },
      "id": "7G1555RTQ1KR",
      "execution_count": null,
      "outputs": [
        {
          "output_type": "execute_result",
          "data": {
            "text/plain": [
              "<matplotlib.axes._subplots.AxesSubplot at 0x7fd92d26bed0>"
            ]
          },
          "metadata": {},
          "execution_count": 13
        },
        {
          "output_type": "display_data",
          "data": {
            "text/plain": [
              "<Figure size 432x288 with 1 Axes>"
            ],
            "image/png": "[encoded data removed]"
          },
          "metadata": {
            "needs_background": "light"
          }
        }
      ]
    },
    {
      "cell_type": "code",
      "source": [
        "from os import makedirs\n",
        "from pathlib import Path\n",
        "os.makedirs(f\"critic-batch_size={32}-dataset_size={45000}-epochs={50}\",exist_ok=True)"
      ],
      "metadata": {
        "id": "jwDKJgWrRx9s"
      },
      "id": "jwDKJgWrRx9s",
      "execution_count": null,
      "outputs": []
    },
    {
      "cell_type": "code",
      "source": [
        "torch.save(critic.state_dict(),Path(f\"critic-batch_size={32}-dataset_size={45000}-epochs={50}\") / 'critic.pt')\n",
        "if save_to_drive:\n",
        "  from google.colab import drive\n",
        "  !mkdir drive\n",
        "  drive.mount('/content/drive')\n",
        "  makedirs(f\"/content/drive/MyDrive/crafter_models/critic-batch_size={32}-dataset_size={45000}-epochs={50}\",exist_ok=True)\n",
        "  torch.save(critic.state_dict(),Path(f\"/content/drive/MyDrive/crafter_models/critic-batch_size={32}-dataset_size={45000}-epochs={50}\") / 'critic.pt')"
      ],
      "metadata": {
        "id": "TgVrHuKqX6Q5",
        "colab": {
          "base_uri": "https://localhost:8080/"
        },
        "outputId": "ffc8c31c-c93f-40f0-9515-57fa810caf3c"
      },
      "id": "TgVrHuKqX6Q5",
      "execution_count": null,
      "outputs": [
        {
          "output_type": "stream",
          "name": "stdout",
          "text": [
            "Mounted at /content/drive\n"
          ]
        }
      ]
    },
    {
      "cell_type": "code",
      "source": [
        "# test model load\n",
        "import torch\n",
        "critic = Critic()\n",
        "critic.load_state_dict(torch.load(Path(f\"critic-batch_size={32}-dataset_size={45000}-epochs={50}\") / 'critic.pt'))"
      ],
      "metadata": {
        "colab": {
          "base_uri": "https://localhost:8080/"
        },
        "id": "NVexJ6dPYgNx",
        "outputId": "93ddb942-1f64-400c-a94c-19d4c44e35eb"
      },
      "id": "NVexJ6dPYgNx",
      "execution_count": null,
      "outputs": [
        {
          "output_type": "execute_result",
          "data": {
            "text/plain": [
              "<All keys matched successfully>"
            ]
          },
          "metadata": {},
          "execution_count": 16
        }
      ]
    },
    {
      "cell_type": "code",
      "source": [
        "# prepare positive and negative examples\n",
        "positive = X[Y==1]\n",
        "negative = X[Y==0]\n",
        "logits_positive = (critic(positive))\n",
        "logits_negative = critic(choose(negative,2000))"
      ],
      "metadata": {
        "id": "SlikfxtYYrNn"
      },
      "id": "SlikfxtYYrNn",
      "execution_count": null,
      "outputs": []
    },
    {
      "cell_type": "code",
      "source": [
        "# outputs for negative samples\n",
        "pd.DataFrame((torch.nn.Sigmoid()(logits_negative)).detach().numpy()).hist(bins=20)"
      ],
      "metadata": {
        "colab": {
          "base_uri": "https://localhost:8080/",
          "height": 317
        },
        "id": "tshUFG3RZy7F",
        "outputId": "3e209ec9-b00b-475c-91a6-bfe7497aa808"
      },
      "id": "tshUFG3RZy7F",
      "execution_count": null,
      "outputs": [
        {
          "output_type": "execute_result",
          "data": {
            "text/plain": [
              "array([[<matplotlib.axes._subplots.AxesSubplot object at 0x7fd92c58fcd0>]],\n",
              "      dtype=object)"
            ]
          },
          "metadata": {},
          "execution_count": 21
        },
        {
          "output_type": "display_data",
          "data": {
            "text/plain": [
              "<Figure size 432x288 with 1 Axes>"
            ],
            "image/png": "[encoded data removed]"
          },
          "metadata": {
            "needs_background": "light"
          }
        }
      ]
    },
    {
      "cell_type": "code",
      "source": [
        "# outputs for positive samples\n",
        "pd.DataFrame((torch.nn.Sigmoid()(logits_positive)).detach().numpy()).hist(bins=20)"
      ],
      "metadata": {
        "colab": {
          "base_uri": "https://localhost:8080/",
          "height": 317
        },
        "id": "y1ObbNKRain_",
        "outputId": "bbd52061-3280-454f-9f9e-4a0c6d48dc66"
      },
      "id": "y1ObbNKRain_",
      "execution_count": null,
      "outputs": [
        {
          "output_type": "execute_result",
          "data": {
            "text/plain": [
              "array([[<matplotlib.axes._subplots.AxesSubplot object at 0x7fd92ba23ad0>]],\n",
              "      dtype=object)"
            ]
          },
          "metadata": {},
          "execution_count": 22
        },
        {
          "output_type": "display_data",
          "data": {
            "text/plain": [
              "<Figure size 432x288 with 1 Axes>"
            ],
            "image/png": "[encoded data removed]"
          },
          "metadata": {
            "needs_background": "light"
          }
        }
      ]
    },
    {
      "cell_type": "code",
      "source": [
        ""
      ],
      "metadata": {
        "id": "RLnb_J80Fb-V"
      },
      "id": "RLnb_J80Fb-V",
      "execution_count": null,
      "outputs": []
    }
  ],
  "metadata": {
    "kernelspec": {
      "display_name": "Python 3",
      "name": "python3"
    },
    "language_info": {
      "name": "python"
    },
    "colab": {
      "name": "crafter_critic_categorical.ipynb",
      "provenance": [],
      "collapsed_sections": []
    },
    "accelerator": "GPU",
    "gpuClass": "standard",
    "widgets": {
      "application/vnd.jupyter.widget-state+json": {
        "10eca747253b4216aa210d9c221f0d92": {
          "model_module": "@jupyter-widgets/controls",
          "model_name": "HBoxModel",
          "model_module_version": "1.5.0",
          "state": {
            "_dom_classes": [],
            "_model_module": "@jupyter-widgets/controls",
            "_model_module_version": "1.5.0",
            "_model_name": "HBoxModel",
            "_view_count": null,
            "_view_module": "@jupyter-widgets/controls",
            "_view_module_version": "1.5.0",
            "_view_name": "HBoxView",
            "box_style": "",
            "children": [
              "IPY_MODEL_b89231b3a119450aa040abe2c5e6c97c",
              "IPY_MODEL_f36f165750644776a4d0a1a33fd52e7e",
              "IPY_MODEL_dde969dfdca440a4a58e55a1b30c8863"
            ],
            "layout": "IPY_MODEL_61bb5f409f074068b2143c27204b025e"
          }
        },
        "b89231b3a119450aa040abe2c5e6c97c": {
          "model_module": "@jupyter-widgets/controls",
          "model_name": "HTMLModel",
          "model_module_version": "1.5.0",
          "state": {
            "_dom_classes": [],
            "_model_module": "@jupyter-widgets/controls",
            "_model_module_version": "1.5.0",
            "_model_name": "HTMLModel",
            "_view_count": null,
            "_view_module": "@jupyter-widgets/controls",
            "_view_module_version": "1.5.0",
            "_view_name": "HTMLView",
            "description": "",
            "description_tooltip": null,
            "layout": "IPY_MODEL_4aeb4b34293d4ab5beb0e08819473fa7",
            "placeholder": "​",
            "style": "IPY_MODEL_dad719ba12b347dc8f27f0cbac8e2a57",
            "value": "Downloading builder script: "
          }
        },
        "f36f165750644776a4d0a1a33fd52e7e": {
          "model_module": "@jupyter-widgets/controls",
          "model_name": "FloatProgressModel",
          "model_module_version": "1.5.0",
          "state": {
            "_dom_classes": [],
            "_model_module": "@jupyter-widgets/controls",
            "_model_module_version": "1.5.0",
            "_model_name": "FloatProgressModel",
            "_view_count": null,
            "_view_module": "@jupyter-widgets/controls",
            "_view_module_version": "1.5.0",
            "_view_name": "ProgressView",
            "bar_style": "success",
            "description": "",
            "description_tooltip": null,
            "layout": "IPY_MODEL_8e5cefed21784c479f5cf853e168ab6b",
            "max": 1652,
            "min": 0,
            "orientation": "horizontal",
            "style": "IPY_MODEL_26c3d82524d748c6a458ab95004db53c",
            "value": 1652
          }
        },
        "dde969dfdca440a4a58e55a1b30c8863": {
          "model_module": "@jupyter-widgets/controls",
          "model_name": "HTMLModel",
          "model_module_version": "1.5.0",
          "state": {
            "_dom_classes": [],
            "_model_module": "@jupyter-widgets/controls",
            "_model_module_version": "1.5.0",
            "_model_name": "HTMLModel",
            "_view_count": null,
            "_view_module": "@jupyter-widgets/controls",
            "_view_module_version": "1.5.0",
            "_view_name": "HTMLView",
            "description": "",
            "description_tooltip": null,
            "layout": "IPY_MODEL_38cec7dfc44a42a9bd5700fb006aa83b",
            "placeholder": "​",
            "style": "IPY_MODEL_f6aa7d300e4e4160aa70c0e0cd001597",
            "value": " 4.21k/? [00:00&lt;00:00, 124kB/s]"
          }
        },
        "61bb5f409f074068b2143c27204b025e": {
          "model_module": "@jupyter-widgets/base",
          "model_name": "LayoutModel",
          "model_module_version": "1.2.0",
          "state": {
            "_model_module": "@jupyter-widgets/base",
            "_model_module_version": "1.2.0",
            "_model_name": "LayoutModel",
            "_view_count": null,
            "_view_module": "@jupyter-widgets/base",
            "_view_module_version": "1.2.0",
            "_view_name": "LayoutView",
            "align_content": null,
            "align_items": null,
            "align_self": null,
            "border": null,
            "bottom": null,
            "display": null,
            "flex": null,
            "flex_flow": null,
            "grid_area": null,
            "grid_auto_columns": null,
            "grid_auto_flow": null,
            "grid_auto_rows": null,
            "grid_column": null,
            "grid_gap": null,
            "grid_row": null,
            "grid_template_areas": null,
            "grid_template_columns": null,
            "grid_template_rows": null,
            "height": null,
            "justify_content": null,
            "justify_items": null,
            "left": null,
            "margin": null,
            "max_height": null,
            "max_width": null,
            "min_height": null,
            "min_width": null,
            "object_fit": null,
            "object_position": null,
            "order": null,
            "overflow": null,
            "overflow_x": null,
            "overflow_y": null,
            "padding": null,
            "right": null,
            "top": null,
            "visibility": null,
            "width": null
          }
        },
        "4aeb4b34293d4ab5beb0e08819473fa7": {
          "model_module": "@jupyter-widgets/base",
          "model_name": "LayoutModel",
          "model_module_version": "1.2.0",
          "state": {
            "_model_module": "@jupyter-widgets/base",
            "_model_module_version": "1.2.0",
            "_model_name": "LayoutModel",
            "_view_count": null,
            "_view_module": "@jupyter-widgets/base",
            "_view_module_version": "1.2.0",
            "_view_name": "LayoutView",
            "align_content": null,
            "align_items": null,
            "align_self": null,
            "border": null,
            "bottom": null,
            "display": null,
            "flex": null,
            "flex_flow": null,
            "grid_area": null,
            "grid_auto_columns": null,
            "grid_auto_flow": null,
            "grid_auto_rows": null,
            "grid_column": null,
            "grid_gap": null,
            "grid_row": null,
            "grid_template_areas": null,
            "grid_template_columns": null,
            "grid_template_rows": null,
            "height": null,
            "justify_content": null,
            "justify_items": null,
            "left": null,
            "margin": null,
            "max_height": null,
            "max_width": null,
            "min_height": null,
            "min_width": null,
            "object_fit": null,
            "object_position": null,
            "order": null,
            "overflow": null,
            "overflow_x": null,
            "overflow_y": null,
            "padding": null,
            "right": null,
            "top": null,
            "visibility": null,
            "width": null
          }
        },
        "dad719ba12b347dc8f27f0cbac8e2a57": {
          "model_module": "@jupyter-widgets/controls",
          "model_name": "DescriptionStyleModel",
          "model_module_version": "1.5.0",
          "state": {
            "_model_module": "@jupyter-widgets/controls",
            "_model_module_version": "1.5.0",
            "_model_name": "DescriptionStyleModel",
            "_view_count": null,
            "_view_module": "@jupyter-widgets/base",
            "_view_module_version": "1.2.0",
            "_view_name": "StyleView",
            "description_width": ""
          }
        },
        "8e5cefed21784c479f5cf853e168ab6b": {
          "model_module": "@jupyter-widgets/base",
          "model_name": "LayoutModel",
          "model_module_version": "1.2.0",
          "state": {
            "_model_module": "@jupyter-widgets/base",
            "_model_module_version": "1.2.0",
            "_model_name": "LayoutModel",
            "_view_count": null,
            "_view_module": "@jupyter-widgets/base",
            "_view_module_version": "1.2.0",
            "_view_name": "LayoutView",
            "align_content": null,
            "align_items": null,
            "align_self": null,
            "border": null,
            "bottom": null,
            "display": null,
            "flex": null,
            "flex_flow": null,
            "grid_area": null,
            "grid_auto_columns": null,
            "grid_auto_flow": null,
            "grid_auto_rows": null,
            "grid_column": null,
            "grid_gap": null,
            "grid_row": null,
            "grid_template_areas": null,
            "grid_template_columns": null,
            "grid_template_rows": null,
            "height": null,
            "justify_content": null,
            "justify_items": null,
            "left": null,
            "margin": null,
            "max_height": null,
            "max_width": null,
            "min_height": null,
            "min_width": null,
            "object_fit": null,
            "object_position": null,
            "order": null,
            "overflow": null,
            "overflow_x": null,
            "overflow_y": null,
            "padding": null,
            "right": null,
            "top": null,
            "visibility": null,
            "width": null
          }
        },
        "26c3d82524d748c6a458ab95004db53c": {
          "model_module": "@jupyter-widgets/controls",
          "model_name": "ProgressStyleModel",
          "model_module_version": "1.5.0",
          "state": {
            "_model_module": "@jupyter-widgets/controls",
            "_model_module_version": "1.5.0",
            "_model_name": "ProgressStyleModel",
            "_view_count": null,
            "_view_module": "@jupyter-widgets/base",
            "_view_module_version": "1.2.0",
            "_view_name": "StyleView",
            "bar_color": null,
            "description_width": ""
          }
        },
        "38cec7dfc44a42a9bd5700fb006aa83b": {
          "model_module": "@jupyter-widgets/base",
          "model_name": "LayoutModel",
          "model_module_version": "1.2.0",
          "state": {
            "_model_module": "@jupyter-widgets/base",
            "_model_module_version": "1.2.0",
            "_model_name": "LayoutModel",
            "_view_count": null,
            "_view_module": "@jupyter-widgets/base",
            "_view_module_version": "1.2.0",
            "_view_name": "LayoutView",
            "align_content": null,
            "align_items": null,
            "align_self": null,
            "border": null,
            "bottom": null,
            "display": null,
            "flex": null,
            "flex_flow": null,
            "grid_area": null,
            "grid_auto_columns": null,
            "grid_auto_flow": null,
            "grid_auto_rows": null,
            "grid_column": null,
            "grid_gap": null,
            "grid_row": null,
            "grid_template_areas": null,
            "grid_template_columns": null,
            "grid_template_rows": null,
            "height": null,
            "justify_content": null,
            "justify_items": null,
            "left": null,
            "margin": null,
            "max_height": null,
            "max_width": null,
            "min_height": null,
            "min_width": null,
            "object_fit": null,
            "object_position": null,
            "order": null,
            "overflow": null,
            "overflow_x": null,
            "overflow_y": null,
            "padding": null,
            "right": null,
            "top": null,
            "visibility": null,
            "width": null
          }
        },
        "f6aa7d300e4e4160aa70c0e0cd001597": {
          "model_module": "@jupyter-widgets/controls",
          "model_name": "DescriptionStyleModel",
          "model_module_version": "1.5.0",
          "state": {
            "_model_module": "@jupyter-widgets/controls",
            "_model_module_version": "1.5.0",
            "_model_name": "DescriptionStyleModel",
            "_view_count": null,
            "_view_module": "@jupyter-widgets/base",
            "_view_module_version": "1.2.0",
            "_view_name": "StyleView",
            "description_width": ""
          }
        }
      }
    }
  },
  "nbformat": 4,
  "nbformat_minor": 5
}