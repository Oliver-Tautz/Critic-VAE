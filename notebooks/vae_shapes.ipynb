{
 "cells": [
  {
   "cell_type": "code",
   "execution_count": 1,
   "id": "f7b1bfa9-18d5-4034-8053-65db26777870",
   "metadata": {},
   "outputs": [],
   "source": [
    "import torch \n",
    "import torch.nn\n",
    "from torch import nn\n",
    "import numpy as np"
   ]
  },
  {
   "cell_type": "code",
   "execution_count": 2,
   "id": "393bec08",
   "metadata": {},
   "outputs": [],
   "source": [
    "from PIL import Image\n",
    "def get_img():\n",
    "    im = Image.open('testim_1.png')\n",
    "\n",
    "    im_array = np.vstack((np.expand_dims(np.asarray(im),0),np.expand_dims(np.asarray(im),0)))\n",
    "    im_array.shape\n",
    "    im_array = np.transpose(im_array,(0,3,1,2))\n",
    "    im_array= im_array[:,:,0:49]\n",
    "    im_array.shape\n",
    "    im_array = torch.tensor(im_array)[:,0:3].to(torch.float32)\n",
    "    \n",
    "    return im_array\n",
    "\n",
    "im_array = get_img()\n"
   ]
  },
  {
   "cell_type": "code",
   "execution_count": 3,
   "id": "7e954424-471d-49d5-9d6a-432326c1ec85",
   "metadata": {},
   "outputs": [
    {
     "data": {
      "text/plain": [
       "torch.Size([2, 3, 49, 2910])"
      ]
     },
     "execution_count": 3,
     "metadata": {},
     "output_type": "execute_result"
    }
   ],
   "source": [
    "im_array.shape"
   ]
  },
  {
   "cell_type": "markdown",
   "id": "1219c754",
   "metadata": {},
   "source": [
    "## Critic shapes"
   ]
  },
  {
   "cell_type": "code",
   "execution_count": 4,
   "id": "c43844fa",
   "metadata": {
    "scrolled": true
   },
   "outputs": [
    {
     "name": "stdout",
     "output_type": "stream",
     "text": [
      "torch.Size([2, 3, 49, 2910])\n",
      "torch.Size([2, 8, 49, 2910])\n",
      "torch.Size([2, 8, 24, 1455])\n",
      "torch.Size([2, 8, 24, 1455])\n",
      "torch.Size([2, 8, 12, 727])\n",
      "torch.Size([2, 8, 12, 727])\n",
      "torch.Size([2, 8, 6, 363])\n",
      "torch.Size([2, 16, 6, 363])\n",
      "torch.Size([2, 32, 3, 360])\n",
      "torch.Size([2, 34560])\n"
     ]
    },
    {
     "ename": "RuntimeError",
     "evalue": "mat1 and mat2 shapes cannot be multiplied (2x34560 and 480x32)",
     "output_type": "error",
     "traceback": [
      "\u001b[0;31m---------------------------------------------------------------------------\u001b[0m",
      "\u001b[0;31mRuntimeError\u001b[0m                              Traceback (most recent call last)",
      "\u001b[0;32m/tmp/ipykernel_48207/4097440344.py\u001b[0m in \u001b[0;36m<module>\u001b[0;34m\u001b[0m\n\u001b[1;32m     27\u001b[0m \u001b[0mim_array\u001b[0m  \u001b[0;34m=\u001b[0m \u001b[0mnn\u001b[0m\u001b[0;34m.\u001b[0m\u001b[0mFlatten\u001b[0m\u001b[0;34m(\u001b[0m\u001b[0;34m)\u001b[0m\u001b[0;34m(\u001b[0m\u001b[0mim_array\u001b[0m\u001b[0;34m)\u001b[0m\u001b[0;34m\u001b[0m\u001b[0;34m\u001b[0m\u001b[0m\n\u001b[1;32m     28\u001b[0m \u001b[0mprint\u001b[0m\u001b[0;34m(\u001b[0m\u001b[0mim_array\u001b[0m\u001b[0;34m.\u001b[0m\u001b[0mshape\u001b[0m\u001b[0;34m)\u001b[0m\u001b[0;34m\u001b[0m\u001b[0;34m\u001b[0m\u001b[0m\n\u001b[0;32m---> 29\u001b[0;31m \u001b[0mim_array\u001b[0m \u001b[0;34m=\u001b[0m \u001b[0mnn\u001b[0m\u001b[0;34m.\u001b[0m\u001b[0mLinear\u001b[0m\u001b[0;34m(\u001b[0m\u001b[0;36m480\u001b[0m\u001b[0;34m,\u001b[0m \u001b[0mchfak\u001b[0m \u001b[0;34m*\u001b[0m \u001b[0mbottleneck\u001b[0m\u001b[0;34m)\u001b[0m\u001b[0;34m(\u001b[0m\u001b[0mim_array\u001b[0m\u001b[0;34m)\u001b[0m\u001b[0;34m\u001b[0m\u001b[0;34m\u001b[0m\u001b[0m\n\u001b[0m\u001b[1;32m     30\u001b[0m \u001b[0mprint\u001b[0m\u001b[0;34m(\u001b[0m\u001b[0mim_array\u001b[0m\u001b[0;34m.\u001b[0m\u001b[0mshape\u001b[0m\u001b[0;34m)\u001b[0m\u001b[0;34m\u001b[0m\u001b[0;34m\u001b[0m\u001b[0m\n\u001b[1;32m     31\u001b[0m \u001b[0mim_array\u001b[0m \u001b[0;34m=\u001b[0m \u001b[0mnn\u001b[0m\u001b[0;34m.\u001b[0m\u001b[0mLinear\u001b[0m\u001b[0;34m(\u001b[0m\u001b[0mchfak\u001b[0m \u001b[0;34m*\u001b[0m \u001b[0mbottleneck\u001b[0m\u001b[0;34m,\u001b[0m \u001b[0;36m1\u001b[0m\u001b[0;34m)\u001b[0m\u001b[0;34m(\u001b[0m\u001b[0mim_array\u001b[0m\u001b[0;34m)\u001b[0m\u001b[0;34m\u001b[0m\u001b[0;34m\u001b[0m\u001b[0m\n",
      "\u001b[0;32m~/stdpy/std_env/lib/python3.10/site-packages/torch/nn/modules/module.py\u001b[0m in \u001b[0;36m_call_impl\u001b[0;34m(self, *input, **kwargs)\u001b[0m\n\u001b[1;32m   1108\u001b[0m         if not (self._backward_hooks or self._forward_hooks or self._forward_pre_hooks or _global_backward_hooks\n\u001b[1;32m   1109\u001b[0m                 or _global_forward_hooks or _global_forward_pre_hooks):\n\u001b[0;32m-> 1110\u001b[0;31m             \u001b[0;32mreturn\u001b[0m \u001b[0mforward_call\u001b[0m\u001b[0;34m(\u001b[0m\u001b[0;34m*\u001b[0m\u001b[0minput\u001b[0m\u001b[0;34m,\u001b[0m \u001b[0;34m**\u001b[0m\u001b[0mkwargs\u001b[0m\u001b[0;34m)\u001b[0m\u001b[0;34m\u001b[0m\u001b[0;34m\u001b[0m\u001b[0m\n\u001b[0m\u001b[1;32m   1111\u001b[0m         \u001b[0;31m# Do not call functions when jit is used\u001b[0m\u001b[0;34m\u001b[0m\u001b[0;34m\u001b[0m\u001b[0m\n\u001b[1;32m   1112\u001b[0m         \u001b[0mfull_backward_hooks\u001b[0m\u001b[0;34m,\u001b[0m \u001b[0mnon_full_backward_hooks\u001b[0m \u001b[0;34m=\u001b[0m \u001b[0;34m[\u001b[0m\u001b[0;34m]\u001b[0m\u001b[0;34m,\u001b[0m \u001b[0;34m[\u001b[0m\u001b[0;34m]\u001b[0m\u001b[0;34m\u001b[0m\u001b[0;34m\u001b[0m\u001b[0m\n",
      "\u001b[0;32m~/stdpy/std_env/lib/python3.10/site-packages/torch/nn/modules/linear.py\u001b[0m in \u001b[0;36mforward\u001b[0;34m(self, input)\u001b[0m\n\u001b[1;32m    101\u001b[0m \u001b[0;34m\u001b[0m\u001b[0m\n\u001b[1;32m    102\u001b[0m     \u001b[0;32mdef\u001b[0m \u001b[0mforward\u001b[0m\u001b[0;34m(\u001b[0m\u001b[0mself\u001b[0m\u001b[0;34m,\u001b[0m \u001b[0minput\u001b[0m\u001b[0;34m:\u001b[0m \u001b[0mTensor\u001b[0m\u001b[0;34m)\u001b[0m \u001b[0;34m->\u001b[0m \u001b[0mTensor\u001b[0m\u001b[0;34m:\u001b[0m\u001b[0;34m\u001b[0m\u001b[0;34m\u001b[0m\u001b[0m\n\u001b[0;32m--> 103\u001b[0;31m         \u001b[0;32mreturn\u001b[0m \u001b[0mF\u001b[0m\u001b[0;34m.\u001b[0m\u001b[0mlinear\u001b[0m\u001b[0;34m(\u001b[0m\u001b[0minput\u001b[0m\u001b[0;34m,\u001b[0m \u001b[0mself\u001b[0m\u001b[0;34m.\u001b[0m\u001b[0mweight\u001b[0m\u001b[0;34m,\u001b[0m \u001b[0mself\u001b[0m\u001b[0;34m.\u001b[0m\u001b[0mbias\u001b[0m\u001b[0;34m)\u001b[0m\u001b[0;34m\u001b[0m\u001b[0;34m\u001b[0m\u001b[0m\n\u001b[0m\u001b[1;32m    104\u001b[0m \u001b[0;34m\u001b[0m\u001b[0m\n\u001b[1;32m    105\u001b[0m     \u001b[0;32mdef\u001b[0m \u001b[0mextra_repr\u001b[0m\u001b[0;34m(\u001b[0m\u001b[0mself\u001b[0m\u001b[0;34m)\u001b[0m \u001b[0;34m->\u001b[0m \u001b[0mstr\u001b[0m\u001b[0;34m:\u001b[0m\u001b[0;34m\u001b[0m\u001b[0;34m\u001b[0m\u001b[0m\n",
      "\u001b[0;31mRuntimeError\u001b[0m: mat1 and mat2 shapes cannot be multiplied (2x34560 and 480x32)"
     ]
    }
   ],
   "source": [
    "pool = nn.MaxPool2d(2)\n",
    "colorchs = 3 \n",
    "dims=[8, 8, 8, 16]\n",
    "stride = 1\n",
    "bottleneck=32\n",
    "chfak=1 \n",
    "\n",
    "print(im_array.shape)\n",
    "im_array = nn.Conv2d(colorchs, dims[0], 3, stride, 1)(im_array)\n",
    "print(im_array.shape)\n",
    "im_array = pool(im_array)\n",
    "print(im_array.shape)\n",
    "im_array = nn.Conv2d(dims[0], dims[1], 3, stride, 1)(im_array)\n",
    "print(im_array.shape)\n",
    "im_array =pool((im_array))\n",
    "print(im_array.shape)\n",
    "im_array = nn.Conv2d(dims[1], dims[2], 3, stride, 1)(im_array)\n",
    "print(im_array.shape)\n",
    "im_array = pool(im_array)\n",
    "print(im_array.shape)\n",
    "im_array = nn.Conv2d(dims[2], dims[3], 3, stride, 1)(im_array)\n",
    "print(im_array.shape)\n",
    "#im_array = pool(im_array)\n",
    "#print(im_array.shape)\n",
    "im_array  = nn.Conv2d(dims[3], bottleneck * chfak, 4)(im_array)\n",
    "print(im_array.shape)\n",
    "im_array  = nn.Flatten()(im_array)\n",
    "print(im_array.shape)\n",
    "im_array = nn.Linear(480, chfak * bottleneck)(im_array)\n",
    "print(im_array.shape)\n",
    "im_array = nn.Linear(chfak * bottleneck, 1)(im_array)\n",
    "print(im_array.shape)"
   ]
  },
  {
   "cell_type": "code",
   "execution_count": null,
   "id": "53f6d8b5-d2e9-4afb-af97-ce634716c88a",
   "metadata": {},
   "outputs": [],
   "source": [
    "dims=[32, 64, 128, 256]"
   ]
  },
  {
   "cell_type": "code",
   "execution_count": 5,
   "id": "d9d249e7",
   "metadata": {},
   "outputs": [
    {
     "name": "stdout",
     "output_type": "stream",
     "text": [
      "torch.Size([2, 3, 49, 2910])\n",
      "torch.Size([2, 8, 49, 2910])\n",
      "torch.Size([2, 8, 25, 1455])\n",
      "torch.Size([2, 8, 25, 1455])\n",
      "torch.Size([2, 8, 13, 728])\n"
     ]
    },
    {
     "ename": "RuntimeError",
     "evalue": "mat1 and mat2 shapes cannot be multiplied (2x75712 and 13312x64)",
     "output_type": "error",
     "traceback": [
      "\u001b[0;31m---------------------------------------------------------------------------\u001b[0m",
      "\u001b[0;31mRuntimeError\u001b[0m                              Traceback (most recent call last)",
      "\u001b[0;32m/tmp/ipykernel_48207/2929801227.py\u001b[0m in \u001b[0;36m<module>\u001b[0;34m\u001b[0m\n\u001b[1;32m     21\u001b[0m \u001b[0;34m\u001b[0m\u001b[0m\n\u001b[1;32m     22\u001b[0m \u001b[0;34m\u001b[0m\u001b[0m\n\u001b[0;32m---> 23\u001b[0;31m \u001b[0mmu\u001b[0m \u001b[0;34m=\u001b[0m \u001b[0mnn\u001b[0m\u001b[0;34m.\u001b[0m\u001b[0mLinear\u001b[0m\u001b[0;34m(\u001b[0m\u001b[0mCRAFTER_BOTTLENECK\u001b[0m\u001b[0;34m,\u001b[0m \u001b[0mlatent_dim\u001b[0m\u001b[0;34m)\u001b[0m\u001b[0;34m(\u001b[0m\u001b[0mnn\u001b[0m\u001b[0;34m.\u001b[0m\u001b[0mFlatten\u001b[0m\u001b[0;34m(\u001b[0m\u001b[0;34m)\u001b[0m\u001b[0;34m(\u001b[0m\u001b[0mX\u001b[0m\u001b[0;34m)\u001b[0m\u001b[0;34m)\u001b[0m\u001b[0;34m\u001b[0m\u001b[0;34m\u001b[0m\u001b[0m\n\u001b[0m\u001b[1;32m     24\u001b[0m \u001b[0mlogvar\u001b[0m \u001b[0;34m=\u001b[0m \u001b[0mnn\u001b[0m\u001b[0;34m.\u001b[0m\u001b[0mLinear\u001b[0m\u001b[0;34m(\u001b[0m\u001b[0mCRAFTER_BOTTLENECK\u001b[0m\u001b[0;34m,\u001b[0m \u001b[0mlatent_dim\u001b[0m\u001b[0;34m)\u001b[0m\u001b[0;34m(\u001b[0m\u001b[0mnn\u001b[0m\u001b[0;34m.\u001b[0m\u001b[0mFlatten\u001b[0m\u001b[0;34m(\u001b[0m\u001b[0;34m)\u001b[0m\u001b[0;34m(\u001b[0m\u001b[0mX\u001b[0m\u001b[0;34m)\u001b[0m\u001b[0;34m)\u001b[0m\u001b[0;34m\u001b[0m\u001b[0;34m\u001b[0m\u001b[0m\n\u001b[1;32m     25\u001b[0m \u001b[0;34m\u001b[0m\u001b[0m\n",
      "\u001b[0;32m~/stdpy/std_env/lib/python3.10/site-packages/torch/nn/modules/module.py\u001b[0m in \u001b[0;36m_call_impl\u001b[0;34m(self, *input, **kwargs)\u001b[0m\n\u001b[1;32m   1108\u001b[0m         if not (self._backward_hooks or self._forward_hooks or self._forward_pre_hooks or _global_backward_hooks\n\u001b[1;32m   1109\u001b[0m                 or _global_forward_hooks or _global_forward_pre_hooks):\n\u001b[0;32m-> 1110\u001b[0;31m             \u001b[0;32mreturn\u001b[0m \u001b[0mforward_call\u001b[0m\u001b[0;34m(\u001b[0m\u001b[0;34m*\u001b[0m\u001b[0minput\u001b[0m\u001b[0;34m,\u001b[0m \u001b[0;34m**\u001b[0m\u001b[0mkwargs\u001b[0m\u001b[0;34m)\u001b[0m\u001b[0;34m\u001b[0m\u001b[0;34m\u001b[0m\u001b[0m\n\u001b[0m\u001b[1;32m   1111\u001b[0m         \u001b[0;31m# Do not call functions when jit is used\u001b[0m\u001b[0;34m\u001b[0m\u001b[0;34m\u001b[0m\u001b[0m\n\u001b[1;32m   1112\u001b[0m         \u001b[0mfull_backward_hooks\u001b[0m\u001b[0;34m,\u001b[0m \u001b[0mnon_full_backward_hooks\u001b[0m \u001b[0;34m=\u001b[0m \u001b[0;34m[\u001b[0m\u001b[0;34m]\u001b[0m\u001b[0;34m,\u001b[0m \u001b[0;34m[\u001b[0m\u001b[0;34m]\u001b[0m\u001b[0;34m\u001b[0m\u001b[0;34m\u001b[0m\u001b[0m\n",
      "\u001b[0;32m~/stdpy/std_env/lib/python3.10/site-packages/torch/nn/modules/linear.py\u001b[0m in \u001b[0;36mforward\u001b[0;34m(self, input)\u001b[0m\n\u001b[1;32m    101\u001b[0m \u001b[0;34m\u001b[0m\u001b[0m\n\u001b[1;32m    102\u001b[0m     \u001b[0;32mdef\u001b[0m \u001b[0mforward\u001b[0m\u001b[0;34m(\u001b[0m\u001b[0mself\u001b[0m\u001b[0;34m,\u001b[0m \u001b[0minput\u001b[0m\u001b[0;34m:\u001b[0m \u001b[0mTensor\u001b[0m\u001b[0;34m)\u001b[0m \u001b[0;34m->\u001b[0m \u001b[0mTensor\u001b[0m\u001b[0;34m:\u001b[0m\u001b[0;34m\u001b[0m\u001b[0;34m\u001b[0m\u001b[0m\n\u001b[0;32m--> 103\u001b[0;31m         \u001b[0;32mreturn\u001b[0m \u001b[0mF\u001b[0m\u001b[0;34m.\u001b[0m\u001b[0mlinear\u001b[0m\u001b[0;34m(\u001b[0m\u001b[0minput\u001b[0m\u001b[0;34m,\u001b[0m \u001b[0mself\u001b[0m\u001b[0;34m.\u001b[0m\u001b[0mweight\u001b[0m\u001b[0;34m,\u001b[0m \u001b[0mself\u001b[0m\u001b[0;34m.\u001b[0m\u001b[0mbias\u001b[0m\u001b[0;34m)\u001b[0m\u001b[0;34m\u001b[0m\u001b[0;34m\u001b[0m\u001b[0m\n\u001b[0m\u001b[1;32m    104\u001b[0m \u001b[0;34m\u001b[0m\u001b[0m\n\u001b[1;32m    105\u001b[0m     \u001b[0;32mdef\u001b[0m \u001b[0mextra_repr\u001b[0m\u001b[0;34m(\u001b[0m\u001b[0mself\u001b[0m\u001b[0;34m)\u001b[0m \u001b[0;34m->\u001b[0m \u001b[0mstr\u001b[0m\u001b[0;34m:\u001b[0m\u001b[0;34m\u001b[0m\u001b[0;34m\u001b[0m\u001b[0m\n",
      "\u001b[0;31mRuntimeError\u001b[0m: mat1 and mat2 shapes cannot be multiplied (2x75712 and 13312x64)"
     ]
    }
   ],
   "source": [
    "X = get_img()\n",
    "ch = 3 \n",
    "k=3\n",
    "step = 1\n",
    "p =  1\n",
    "CRAFTER_BOTTLENECK = 13312\n",
    "latent_dim = 64\n",
    "\n",
    "\n",
    "# encoder\n",
    "\n",
    "print(X.shape)\n",
    "X = nn.Conv2d(ch, dims[0], k, step, p)(X)\n",
    "print(X.shape)\n",
    "X = nn.Conv2d(dims[0], dims[0], 3, 2, 1)(X)\n",
    "print(X.shape)\n",
    "X = nn.Conv2d(dims[0], dims[1], k, step, p)(X)\n",
    "print(X.shape)\n",
    "X = nn.Conv2d(dims[1], dims[1], 3, 2, 1)(X)\n",
    "print(X.shape)\n",
    "\n",
    "\n",
    "mu = nn.Linear(CRAFTER_BOTTLENECK, latent_dim)(nn.Flatten()(X))\n",
    "logvar = nn.Linear(CRAFTER_BOTTLENECK, latent_dim)(nn.Flatten()(X))\n",
    "\n",
    "print('\\tmu: ',mu.shape,'var: ',logvar.shape)\n",
    "\n",
    "\n",
    "\n",
    "# decoder\n",
    "\n",
    "# reparameterization same shape as mu itself\n",
    "X = torch.zeros(2,latent_dim+1)\n",
    "print(X.shape)\n",
    "X = nn.Linear(latent_dim+1,CRAFTER_BOTTLENECK)(X)\n",
    "print(X.shape)\n",
    "X = X.view(-1,64,13,16)\n",
    "print(X.shape)\n",
    "X = torch.nn.ConvTranspose2d(in_channels=64, out_channels=32, kernel_size=3, stride=(2,3), padding=(1,8), dilation=1)(X)\n",
    "print(X.shape)\n",
    "X =  torch.nn.ConvTranspose2d(in_channels=32, out_channels=32, kernel_size=3, stride=(2,3), padding=(1,16), dilation=1)(X)\n",
    "print(X.shape)\n",
    "X =   nn.Conv2d(dims[0], ch, k, step, p) (X)\n",
    "print(X.shape)"
   ]
  },
  {
   "cell_type": "code",
   "execution_count": null,
   "id": "978173ed",
   "metadata": {},
   "outputs": [],
   "source": [
    "\n",
    "print(X.shape)\n",
    "\n",
    "k = 3 \n",
    "ch = 3\n",
    "step = 1\n",
    "p= 1\n",
    "dims=[32, 64, 128, 256]"
   ]
  },
  {
   "cell_type": "code",
   "execution_count": null,
   "id": "522cd5a8",
   "metadata": {},
   "outputs": [],
   "source": [
    "X = get_img()\n",
    "\n",
    "X=          nn.Conv2d(ch, dims[0], k, step, p)(X) \n",
    "print(X.shape)\n",
    "X=          nn.BatchNorm2d(dims[0])(X)\n",
    "print(X.shape)\n",
    "X=          nn.MaxPool2d(2)(X)\n",
    "print(X.shape)\n",
    "\n",
    "X=            nn.Conv2d(dims[0], dims[1], k, step, p)(X)\n",
    "print(X.shape)\n",
    "X=            nn.BatchNorm2d(dims[1])(X)\n",
    "print(X.shape)\n",
    "X=            nn.MaxPool2d(2)(X)\n",
    "print(X.shape)\n",
    "\n",
    "\n",
    "X=            nn.Conv2d(dims[1], dims[2], k, step, p)(X)\n",
    "print(X.shape)\n",
    "X=           nn.BatchNorm2d(dims[2])(X)\n",
    "print(X.shape)\n",
    "#X=            nn.MaxPool2d(2)(X)\n",
    "print(X.shape)\n",
    "\n",
    "\n",
    "X=            nn.Conv2d(dims[2], dims[3], k, step, p)(X)\n",
    "print(X.shape)\n",
    "X=            nn.BatchNorm2d(dims[3])(X)\n",
    "print(X.shape)\n",
    "#X=            nn.MaxPool2d(2)(X)\n",
    "print(X.shape)\n"
   ]
  },
  {
   "cell_type": "code",
   "execution_count": null,
   "id": "81e27aa7-d4bb-45d0-bcf2-c82c7daf2520",
   "metadata": {},
   "outputs": [],
   "source": [
    "X=  nn.Conv2d(dims[3], dims[2], k, step, p)(X)\n",
    "print(X.shape)\n",
    "X=             nn.Upsample(scale_factor=2)(X)\n",
    "print(X.shape)\n",
    "X=             nn.Conv2d(dims[2], dims[1], k, step, p)(X)\n",
    "print(X.shape)\n",
    "X=             nn.Upsample(scale_factor=2)(X)\n",
    "print(X.shape)\n",
    "X=             nn.Conv2d(dims[1], dims[0], k, step, p)(X)\n",
    "print(X.shape)\n",
    "#X=             nn.Upsample(scale_factor=2)(X)\n",
    "print(X.shape)\n",
    "X=             nn.Conv2d(dims[0], dims[0], k, step, p)(X)\n",
    "print(X.shape)\n",
    "#X=             nn.Upsample(scale_factor=2)(X)\n",
    "print(X.shape)\n",
    "X=             nn.Conv2d(dims[0], ch, k, step, p)(X)\n",
    "print(X.shape)"
   ]
  },
  {
   "cell_type": "code",
   "execution_count": null,
   "id": "58b446a6-d661-4a22-b78a-c4d177625660",
   "metadata": {},
   "outputs": [],
   "source": [
    "X.shape"
   ]
  },
  {
   "cell_type": "code",
   "execution_count": null,
   "id": "54635da6-b2ee-4fb5-8cb3-e168b347e1f2",
   "metadata": {},
   "outputs": [],
   "source": [
    "import pandas as pd\n",
    "\n",
    "pd.read_csv('/home/olli/gits/Critic-VAE/log.csv')['total_loss'][:].plot()"
   ]
  },
  {
   "cell_type": "code",
   "execution_count": null,
   "id": "50209fe8-7321-4c84-9c22-4f215fd3e1ac",
   "metadata": {},
   "outputs": [],
   "source": [
    "pov = np.load('/home/olli/gits/Critic-VAE/pov.np.npy')\n",
    "recon = np.load('/home/olli/gits/Critic-VAE/revon.np.npy')\n"
   ]
  },
  {
   "cell_type": "code",
   "execution_count": null,
   "id": "01a51078-be8d-4058-bf1c-9cd4148a0cbc",
   "metadata": {},
   "outputs": [],
   "source": [
    "im_array = get_img().numpy()[0]\n",
    "im_array = im_array.squeeze().transpose(1,2,0)\n",
    "im_array.shape"
   ]
  },
  {
   "cell_type": "code",
   "execution_count": null,
   "id": "76954328-14b8-46cf-b474-241b7be090f3",
   "metadata": {},
   "outputs": [],
   "source": [
    "def plot_side_by_side(filename,ims, labels = None):\n",
    "    import matplotlib.pyplot as plt\n",
    "\n",
    "\n",
    "    f, axs = plt.subplots(1,len(ims))\n",
    "    if labels == None:\n",
    "        labels = range(len(ims))\n",
    "    if len(labels) < len(ims):\n",
    "        labels.extend(['none']*(len(ims)-len(labels)))\n",
    "    \n",
    "    for ax, im, label  in zip(axs,ims,labels[0:len(ims)]):\n",
    "        im = im.squeeze().transpose(1,2,0)*255\n",
    "        ax.imshow(im.astype(np.uint8))\n",
    "        ax.title.set_text(str(label))\n",
    "        ax.axis('off')\n",
    "    f.suptitle('test 12312321 31232123 13 21123 23 1',y=0.7)\n",
    "    plt.savefig(filename,bbox_inches='tight')\n",
    "    \n",
    "plot_side_by_side('test2.jpg',[pov,recon,recon,recon,pov],['train',1,2,3,4,5,6])"
   ]
  },
  {
   "cell_type": "code",
   "execution_count": null,
   "id": "c1b7d65b-a9ad-40ef-9d79-f5862650c563",
   "metadata": {},
   "outputs": [],
   "source": [
    "[1,2,3,4,5][0:2\n",
    "           ]"
   ]
  },
  {
   "cell_type": "code",
   "execution_count": null,
   "id": "20d35411-f53c-4d43-baf2-19001fb55c62",
   "metadata": {},
   "outputs": [],
   "source": [
    "x = torch.ones((3, 48, 64))\n",
    "y = torch.ones((3, 48, 64))\n",
    "torch.stack([x,y]).shape"
   ]
  }
 ],
 "metadata": {
  "kernelspec": {
   "display_name": "std-env",
   "language": "python",
   "name": "std-env"
  },
  "language_info": {
   "codemirror_mode": {
    "name": "ipython",
    "version": 3
   },
   "file_extension": ".py",
   "mimetype": "text/x-python",
   "name": "python",
   "nbconvert_exporter": "python",
   "pygments_lexer": "ipython3",
   "version": "3.10.8"
  }
 },
 "nbformat": 4,
 "nbformat_minor": 5
}
