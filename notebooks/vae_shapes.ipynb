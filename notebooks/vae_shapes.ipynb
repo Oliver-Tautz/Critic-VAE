{
 "cells": [
  {
   "cell_type": "code",
   "execution_count": 1,
   "id": "f7b1bfa9-18d5-4034-8053-65db26777870",
   "metadata": {},
   "outputs": [],
   "source": [
    "import torch \n",
    "import torch.nn\n",
    "from torch import nn\n",
    "import numpy as np"
   ]
  },
  {
   "cell_type": "code",
   "execution_count": 18,
   "id": "393bec08",
   "metadata": {},
   "outputs": [],
   "source": [
    "from PIL import Image\n",
    "def get_img():\n",
    "    im = Image.open('test.png')\n",
    "\n",
    "    im_array = np.vstack((np.expand_dims(np.asarray(im),0),np.expand_dims(np.asarray(im),0)))\n",
    "    im_array.shape\n",
    "    im_array = np.transpose(im_array,(0,3,1,2))\n",
    "    im_array= im_array[:,:,0:49]\n",
    "    im_array.shape\n",
    "    im_array = torch.tensor(im_array)[:,0:3].to(torch.float32)\n",
    "    \n",
    "    return im_array\n",
    "\n",
    "im_array = get_img()\n"
   ]
  },
  {
   "cell_type": "code",
   "execution_count": 21,
   "id": "7e954424-471d-49d5-9d6a-432326c1ec85",
   "metadata": {},
   "outputs": [
    {
     "data": {
      "text/plain": [
       "torch.Size([2, 3, 49, 64])"
      ]
     },
     "execution_count": 21,
     "metadata": {},
     "output_type": "execute_result"
    }
   ],
   "source": [
    "im_array.shape"
   ]
  },
  {
   "cell_type": "markdown",
   "id": "1219c754",
   "metadata": {},
   "source": [
    "## Critic shapes"
   ]
  },
  {
   "cell_type": "code",
   "execution_count": 3,
   "id": "c43844fa",
   "metadata": {
    "scrolled": true
   },
   "outputs": [
    {
     "name": "stdout",
     "output_type": "stream",
     "text": [
      "torch.Size([2, 3, 49, 64])\n",
      "torch.Size([2, 8, 49, 64])\n",
      "torch.Size([2, 8, 24, 32])\n",
      "torch.Size([2, 8, 24, 32])\n",
      "torch.Size([2, 8, 12, 16])\n",
      "torch.Size([2, 8, 12, 16])\n",
      "torch.Size([2, 8, 6, 8])\n",
      "torch.Size([2, 16, 6, 8])\n",
      "torch.Size([2, 32, 3, 5])\n",
      "torch.Size([2, 480])\n",
      "torch.Size([2, 32])\n",
      "torch.Size([2, 1])\n"
     ]
    }
   ],
   "source": [
    "pool = nn.MaxPool2d(2)\n",
    "colorchs = 3 \n",
    "dims=[8, 8, 8, 16]\n",
    "stride = 1\n",
    "bottleneck=32\n",
    "chfak=1 \n",
    "\n",
    "print(im_array.shape)\n",
    "im_array = nn.Conv2d(colorchs, dims[0], 3, stride, 1)(im_array)\n",
    "print(im_array.shape)\n",
    "im_array = pool(im_array)\n",
    "print(im_array.shape)\n",
    "im_array = nn.Conv2d(dims[0], dims[1], 3, stride, 1)(im_array)\n",
    "print(im_array.shape)\n",
    "im_array =pool((im_array))\n",
    "print(im_array.shape)\n",
    "im_array = nn.Conv2d(dims[1], dims[2], 3, stride, 1)(im_array)\n",
    "print(im_array.shape)\n",
    "im_array = pool(im_array)\n",
    "print(im_array.shape)\n",
    "im_array = nn.Conv2d(dims[2], dims[3], 3, stride, 1)(im_array)\n",
    "print(im_array.shape)\n",
    "#im_array = pool(im_array)\n",
    "#print(im_array.shape)\n",
    "im_array  = nn.Conv2d(dims[3], bottleneck * chfak, 4)(im_array)\n",
    "print(im_array.shape)\n",
    "im_array  = nn.Flatten()(im_array)\n",
    "print(im_array.shape)\n",
    "im_array = nn.Linear(480, chfak * bottleneck)(im_array)\n",
    "print(im_array.shape)\n",
    "im_array = nn.Linear(chfak * bottleneck, 1)(im_array)\n",
    "print(im_array.shape)"
   ]
  },
  {
   "cell_type": "code",
   "execution_count": 4,
   "id": "53f6d8b5-d2e9-4afb-af97-ce634716c88a",
   "metadata": {},
   "outputs": [],
   "source": [
    "dims=[32, 64, 128, 256]"
   ]
  },
  {
   "cell_type": "code",
   "execution_count": 5,
   "id": "d9d249e7",
   "metadata": {},
   "outputs": [
    {
     "name": "stdout",
     "output_type": "stream",
     "text": [
      "torch.Size([2, 3, 49, 64])\n",
      "torch.Size([2, 32, 49, 64])\n",
      "torch.Size([2, 32, 25, 32])\n",
      "torch.Size([2, 64, 25, 32])\n",
      "torch.Size([2, 64, 13, 16])\n",
      "\tmu:  torch.Size([2, 64]) var:  torch.Size([2, 64])\n",
      "torch.Size([2, 65])\n",
      "torch.Size([2, 13312])\n",
      "torch.Size([2, 64, 13, 16])\n",
      "torch.Size([2, 32, 25, 32])\n",
      "torch.Size([2, 32, 49, 64])\n",
      "torch.Size([2, 3, 49, 64])\n"
     ]
    }
   ],
   "source": [
    "X = get_img()\n",
    "ch = 3 \n",
    "k=3\n",
    "step = 1\n",
    "p =  1\n",
    "CRAFTER_BOTTLENECK = 13312\n",
    "latent_dim = 64\n",
    "\n",
    "\n",
    "# encoder\n",
    "\n",
    "print(X.shape)\n",
    "X = nn.Conv2d(ch, dims[0], k, step, p)(X)\n",
    "print(X.shape)\n",
    "X = nn.Conv2d(dims[0], dims[0], 3, 2, 1)(X)\n",
    "print(X.shape)\n",
    "X = nn.Conv2d(dims[0], dims[1], k, step, p)(X)\n",
    "print(X.shape)\n",
    "X = nn.Conv2d(dims[1], dims[1], 3, 2, 1)(X)\n",
    "print(X.shape)\n",
    "\n",
    "\n",
    "mu = nn.Linear(CRAFTER_BOTTLENECK, latent_dim)(nn.Flatten()(X))\n",
    "logvar = nn.Linear(CRAFTER_BOTTLENECK, latent_dim)(nn.Flatten()(X))\n",
    "\n",
    "print('\\tmu: ',mu.shape,'var: ',logvar.shape)\n",
    "\n",
    "\n",
    "\n",
    "# decoder\n",
    "\n",
    "# reparameterization same shape as mu itself\n",
    "X = torch.zeros(2,latent_dim+1)\n",
    "print(X.shape)\n",
    "X = nn.Linear(latent_dim+1,CRAFTER_BOTTLENECK)(X)\n",
    "print(X.shape)\n",
    "X = X.view(-1,64,13,16)\n",
    "print(X.shape)\n",
    "X = torch.nn.ConvTranspose2d(in_channels=64, out_channels=32, kernel_size=3, stride=(2,3), padding=(1,8), dilation=1)(X)\n",
    "print(X.shape)\n",
    "X =  torch.nn.ConvTranspose2d(in_channels=32, out_channels=32, kernel_size=3, stride=(2,3), padding=(1,16), dilation=1)(X)\n",
    "print(X.shape)\n",
    "X =   nn.Conv2d(dims[0], ch, k, step, p) (X)\n",
    "print(X.shape)"
   ]
  },
  {
   "cell_type": "code",
   "execution_count": 6,
   "id": "978173ed",
   "metadata": {},
   "outputs": [
    {
     "name": "stdout",
     "output_type": "stream",
     "text": [
      "torch.Size([2, 3, 49, 64])\n"
     ]
    }
   ],
   "source": [
    "\n",
    "print(X.shape)\n",
    "\n",
    "k = 3 \n",
    "ch = 3\n",
    "step = 1\n",
    "p= 1\n",
    "dims=[32, 64, 128, 256]"
   ]
  },
  {
   "cell_type": "code",
   "execution_count": 7,
   "id": "522cd5a8",
   "metadata": {},
   "outputs": [
    {
     "name": "stdout",
     "output_type": "stream",
     "text": [
      "torch.Size([2, 32, 49, 64])\n",
      "torch.Size([2, 32, 49, 64])\n",
      "torch.Size([2, 32, 24, 32])\n",
      "torch.Size([2, 64, 24, 32])\n",
      "torch.Size([2, 64, 24, 32])\n",
      "torch.Size([2, 64, 12, 16])\n",
      "torch.Size([2, 128, 12, 16])\n",
      "torch.Size([2, 128, 12, 16])\n",
      "torch.Size([2, 128, 12, 16])\n",
      "torch.Size([2, 256, 12, 16])\n",
      "torch.Size([2, 256, 12, 16])\n",
      "torch.Size([2, 256, 12, 16])\n"
     ]
    }
   ],
   "source": [
    "X = get_img()\n",
    "\n",
    "X=          nn.Conv2d(ch, dims[0], k, step, p)(X) \n",
    "print(X.shape)\n",
    "X=          nn.BatchNorm2d(dims[0])(X)\n",
    "print(X.shape)\n",
    "X=          nn.MaxPool2d(2)(X)\n",
    "print(X.shape)\n",
    "\n",
    "X=            nn.Conv2d(dims[0], dims[1], k, step, p)(X)\n",
    "print(X.shape)\n",
    "X=            nn.BatchNorm2d(dims[1])(X)\n",
    "print(X.shape)\n",
    "X=            nn.MaxPool2d(2)(X)\n",
    "print(X.shape)\n",
    "\n",
    "\n",
    "X=            nn.Conv2d(dims[1], dims[2], k, step, p)(X)\n",
    "print(X.shape)\n",
    "X=           nn.BatchNorm2d(dims[2])(X)\n",
    "print(X.shape)\n",
    "#X=            nn.MaxPool2d(2)(X)\n",
    "print(X.shape)\n",
    "\n",
    "\n",
    "X=            nn.Conv2d(dims[2], dims[3], k, step, p)(X)\n",
    "print(X.shape)\n",
    "X=            nn.BatchNorm2d(dims[3])(X)\n",
    "print(X.shape)\n",
    "#X=            nn.MaxPool2d(2)(X)\n",
    "print(X.shape)\n"
   ]
  },
  {
   "cell_type": "code",
   "execution_count": 8,
   "id": "81e27aa7-d4bb-45d0-bcf2-c82c7daf2520",
   "metadata": {},
   "outputs": [
    {
     "name": "stdout",
     "output_type": "stream",
     "text": [
      "torch.Size([2, 128, 12, 16])\n",
      "torch.Size([2, 128, 24, 32])\n",
      "torch.Size([2, 64, 24, 32])\n",
      "torch.Size([2, 64, 48, 64])\n",
      "torch.Size([2, 32, 48, 64])\n",
      "torch.Size([2, 32, 48, 64])\n",
      "torch.Size([2, 32, 48, 64])\n",
      "torch.Size([2, 32, 48, 64])\n",
      "torch.Size([2, 3, 48, 64])\n"
     ]
    }
   ],
   "source": [
    "X=  nn.Conv2d(dims[3], dims[2], k, step, p)(X)\n",
    "print(X.shape)\n",
    "X=             nn.Upsample(scale_factor=2)(X)\n",
    "print(X.shape)\n",
    "X=             nn.Conv2d(dims[2], dims[1], k, step, p)(X)\n",
    "print(X.shape)\n",
    "X=             nn.Upsample(scale_factor=2)(X)\n",
    "print(X.shape)\n",
    "X=             nn.Conv2d(dims[1], dims[0], k, step, p)(X)\n",
    "print(X.shape)\n",
    "#X=             nn.Upsample(scale_factor=2)(X)\n",
    "print(X.shape)\n",
    "X=             nn.Conv2d(dims[0], dims[0], k, step, p)(X)\n",
    "print(X.shape)\n",
    "#X=             nn.Upsample(scale_factor=2)(X)\n",
    "print(X.shape)\n",
    "X=             nn.Conv2d(dims[0], ch, k, step, p)(X)\n",
    "print(X.shape)"
   ]
  },
  {
   "cell_type": "code",
   "execution_count": 9,
   "id": "58b446a6-d661-4a22-b78a-c4d177625660",
   "metadata": {},
   "outputs": [
    {
     "data": {
      "text/plain": [
       "torch.Size([2, 3, 48, 64])"
      ]
     },
     "execution_count": 9,
     "metadata": {},
     "output_type": "execute_result"
    }
   ],
   "source": [
    "X.shape"
   ]
  },
  {
   "cell_type": "code",
   "execution_count": 131,
   "id": "54635da6-b2ee-4fb5-8cb3-e168b347e1f2",
   "metadata": {},
   "outputs": [
    {
     "data": {
      "text/plain": [
       "<AxesSubplot:>"
      ]
     },
     "execution_count": 131,
     "metadata": {},
     "output_type": "execute_result"
    },
    {
     "data": {
      "image/png": "[encoded data removed]",
      "text/plain": [
       "<Figure size 432x288 with 1 Axes>"
      ]
     },
     "metadata": {
      "needs_background": "light"
     },
     "output_type": "display_data"
    }
   ],
   "source": [
    "import pandas as pd\n",
    "\n",
    "pd.read_csv('/home/olli/gits/Critic-VAE/log.csv')['total_loss'][:].plot()"
   ]
  },
  {
   "cell_type": "code",
   "execution_count": 52,
   "id": "50209fe8-7321-4c84-9c22-4f215fd3e1ac",
   "metadata": {},
   "outputs": [],
   "source": [
    "pov = np.load('/home/olli/gits/Critic-VAE/pov.np.npy')\n",
    "recon = np.load('/home/olli/gits/Critic-VAE/revon.np.npy')\n"
   ]
  },
  {
   "cell_type": "code",
   "execution_count": 29,
   "id": "01a51078-be8d-4058-bf1c-9cd4148a0cbc",
   "metadata": {},
   "outputs": [
    {
     "data": {
      "text/plain": [
       "(49, 64, 3)"
      ]
     },
     "execution_count": 29,
     "metadata": {},
     "output_type": "execute_result"
    }
   ],
   "source": [
    "im_array = get_img().numpy()[0]\n",
    "im_array = im_array.squeeze().transpose(1,2,0)\n",
    "im_array.shape"
   ]
  },
  {
   "cell_type": "code",
   "execution_count": 160,
   "id": "76954328-14b8-46cf-b474-241b7be090f3",
   "metadata": {},
   "outputs": [
    {
     "data": {
      "image/png": "[encoded data removed]",
      "text/plain": [
       "<Figure size 432x288 with 5 Axes>"
      ]
     },
     "metadata": {
      "needs_background": "light"
     },
     "output_type": "display_data"
    }
   ],
   "source": [
    "def plot_side_by_side(filename,ims, labels = None):\n",
    "    import matplotlib.pyplot as plt\n",
    "\n",
    "\n",
    "    f, axs = plt.subplots(1,len(ims))\n",
    "    if labels == None:\n",
    "        labels = range(len(ims))\n",
    "    if len(labels) < len(ims):\n",
    "        labels.extend(['none']*(len(ims)-len(labels)))\n",
    "    \n",
    "    for ax, im, label  in zip(axs,ims,labels[0:len(ims)]):\n",
    "        im = im.squeeze().transpose(1,2,0)*255\n",
    "        ax.imshow(im.astype(np.uint8))\n",
    "        ax.title.set_text(str(label))\n",
    "        ax.axis('off')\n",
    "    f.suptitle('test 12312321 31232123 13 21123 23 1',y=0.7)\n",
    "    plt.savefig(filename,bbox_inches='tight')\n",
    "    \n",
    "plot_side_by_side('test2.jpg',[pov,recon,recon,recon,pov],['train',1,2,3,4,5,6])"
   ]
  },
  {
   "cell_type": "code",
   "execution_count": 130,
   "id": "c1b7d65b-a9ad-40ef-9d79-f5862650c563",
   "metadata": {},
   "outputs": [
    {
     "data": {
      "text/plain": [
       "[1]"
      ]
     },
     "execution_count": 130,
     "metadata": {},
     "output_type": "execute_result"
    }
   ],
   "source": [
    "[1,2,3,4,5][0:2\n",
    "           ]"
   ]
  },
  {
   "cell_type": "code",
   "execution_count": 141,
   "id": "20d35411-f53c-4d43-baf2-19001fb55c62",
   "metadata": {},
   "outputs": [
    {
     "data": {
      "text/plain": [
       "torch.Size([2, 3, 48, 64])"
      ]
     },
     "execution_count": 141,
     "metadata": {},
     "output_type": "execute_result"
    }
   ],
   "source": [
    "x = torch.ones((3, 48, 64))\n",
    "y = torch.ones((3, 48, 64))\n",
    "torch.stack([x,y]).shape"
   ]
  }
 ],
 "metadata": {
  "kernelspec": {
   "display_name": "std-env",
   "language": "python",
   "name": "std-env"
  },
  "language_info": {
   "codemirror_mode": {
    "name": "ipython",
    "version": 3
   },
   "file_extension": ".py",
   "mimetype": "text/x-python",
   "name": "python",
   "nbconvert_exporter": "python",
   "pygments_lexer": "ipython3",
   "version": "3.10.7"
  }
 },
 "nbformat": 4,
 "nbformat_minor": 5
}
