{
 "cells": [
  {
   "cell_type": "code",
   "execution_count": 96,
   "id": "cbe6d94e-7d0e-4b11-8284-f568b2cf3af2",
   "metadata": {},
   "outputs": [],
   "source": [
    "import numpy as np\n",
    "import os\n",
    "from pathlib import Path\n",
    "from collections import OrderedDict\n",
    "from os import makedirs"
   ]
  },
  {
   "cell_type": "code",
   "execution_count": 100,
   "id": "7f2727df-fb07-4f6c-94e6-6cd55c1ddd26",
   "metadata": {},
   "outputs": [],
   "source": [
    "windowsizes = [5,10,15,20,30,50]\n",
    "replay_dir = Path(\"../dataset\")"
   ]
  },
  {
   "cell_type": "code",
   "execution_count": 101,
   "id": "6f9d1e7c-94c1-4c1c-8517-4369eb6d1a14",
   "metadata": {},
   "outputs": [],
   "source": [
    "for windowsize in windowsizes:\n",
    "    replay_list = []\n",
    "\n",
    "    for replay_name in os.listdir(replay_dir / 'dataset'):\n",
    "            if replay_name.endswith('.npz'):\n",
    "                replay = np.load(replay_dir / 'dataset' / replay_name, allow_pickle=True)\n",
    "                # replay.keys()\n",
    "                replay_dict = OrderedDict(replay)\n",
    "\n",
    "\n",
    "\n",
    "                ### only use pics close to the reward\n",
    "\n",
    "                images = replay_dict['image']\n",
    "                wood = replay_dict['inventory_wood']\n",
    "                \n",
    "                ## gather indices where a new woodlog is gathered\n",
    "                reward_ix = []\n",
    "                current_wood = 0\n",
    "                \n",
    "                for i,w in enumerate(wood):\n",
    "                    if w > current_wood:\n",
    "                        reward_ix.append(i)\n",
    "                        current_wood = w\n",
    "                    if w < current_wood:\n",
    "                        current_wood = w\n",
    "                        \n",
    "                ## get cleaned data\n",
    "                for key in replay_dict.keys():\n",
    "\n",
    "                    cleaned =  [replay_dict[key][max(0,i-windowsize):i] for i in reward_ix]\n",
    "\n",
    "                    if len(cleaned[0].shape) > 1: \n",
    "                        replay_dict[key] = np.vstack([replay_dict[key][max(0,i-windowsize):i] for i in reward_ix])\n",
    "                    else:\n",
    "                        replay_dict[key] = np.concatenate([replay_dict[key][max(0,i-windowsize):i] for i in reward_ix])\n",
    "                \n",
    "                ## save to new folders\n",
    "                replay_list.append(replay_dict)\n",
    "                makedirs(replay_dir / f'dataset_windowsize={windowsize}',exist_ok=True)\n",
    "                np.savez_compressed(replay_dir / f'dataset_windowsize={windowsize}' / replay_name,**replay_dict,)"
   ]
  }
 ],
 "metadata": {
  "kernelspec": {
   "display_name": "std-env",
   "language": "python",
   "name": "std-env"
  },
  "language_info": {
   "codemirror_mode": {
    "name": "ipython",
    "version": 3
   },
   "file_extension": ".py",
   "mimetype": "text/x-python",
   "name": "python",
   "nbconvert_exporter": "python",
   "pygments_lexer": "ipython3",
   "version": "3.10.8"
  }
 },
 "nbformat": 4,
 "nbformat_minor": 5
}
